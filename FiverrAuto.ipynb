{
 "cells": [
  {
   "cell_type": "code",
   "execution_count": 1,
   "metadata": {},
   "outputs": [],
   "source": [
    "import selenium\n",
    "from selenium import webdriver\n",
    "from selenium.webdriver.common.by import By\n",
    "from selenium.webdriver.support.ui import WebDriverWait\n",
    "from selenium.webdriver.support import expected_conditions as EC\n",
    "from selenium.common.exceptions import NoSuchElementException\n",
    "import pandas as pd"
   ]
  },
  {
   "cell_type": "code",
   "execution_count": 2,
   "metadata": {},
   "outputs": [],
   "source": [
    "data = {'Modelo': [], 'Year': [], 'Images': [], 'City': [], 'Distance': [], 'Negotiable': [], 'Price': [], 'Marca': [], 'Subtipo': [], 'Vidrios': [], 'Tracción': [], 'Transmisión': [], 'Dirección': [], 'Sistema_de_climatización': [], 'Placa': [], 'Tapizado': [], 'Combustible': [], 'Description': []}\n",
    "\n",
    "df = pd.DataFrame(data)"
   ]
  },
  {
   "cell_type": "code",
   "execution_count": 3,
   "metadata": {},
   "outputs": [],
   "source": [
    "driver = webdriver.Firefox(executable_path=\"C:\\\\Python38\\\\geckodriver.exe\")\n",
    "driver.get(\"https://peru.todoautos.com.pe/usados/-/autos/-/bmw?type_autos_brand=toyota&type_autos_brand=byd&type_autos_brand=kia&type_autos_brand=hyundai&type_autos_brand=jeep&type_autos_brand=jac&type_autos_brand=volvo&type_autos_brand=land+rover&type_autos_brand=lexus&type_autos_brand=mahindra&type_autos_brand=mazda&type_autos_brand=mercedes+benz&type_autos_brand=mg&type_autos_brand=mini&type_autos_brand=mitsubishi&type_autos_brand=nissan&type_autos_brand=peugeot&type_autos_brand=porsche&type_autos_brand=renault&type_autos_brand=seat&type_autos_brand=smart&type_autos_brand=ssangyong&type_autos_brand=subaru&type_autos_brand=suzuki&type_autos_brand=volkswagen\")"
   ]
  },
  {
   "cell_type": "code",
   "execution_count": 4,
   "metadata": {},
   "outputs": [],
   "source": [
    "driver2 = webdriver.Firefox(executable_path=\"C:\\\\Python38\\\\geckodriver.exe\")"
   ]
  },
  {
   "cell_type": "code",
   "execution_count": 10,
   "metadata": {},
   "outputs": [],
   "source": [
    "for i in range(1,16):\n",
    "    try:\n",
    "        searchBar = WebDriverWait(driver, 10).until(\n",
    "            EC.presence_of_element_located((By.XPATH, \"//*[@class='row m-b-none']\"))\n",
    "        )\n",
    "        cars = driver.find_elements_by_id(\"featuredUsed\")\n",
    "    except Exception as e:\n",
    "        print(e)\n",
    "        \n",
    "    for car in driver.find_elements_by_xpath(\"//*[@class='card-info card-content']\"):\n",
    "        \n",
    "        price = \"\"\n",
    "        Marca = \"\"\n",
    "        Subtipo = \"\"\n",
    "        Vidrios = \"\"\n",
    "        Tracción = \"\"\n",
    "        Transmisión = \"\"\n",
    "        Dirección = \"\"\n",
    "        Sistema_de_climatización = \"\"\n",
    "        Placa = \"\"\n",
    "        Tapizado = \"\"\n",
    "        Combustible = \"\"\n",
    "        description = \"\"\n",
    "\n",
    "        images = []\n",
    "        link = car.find_element_by_css_selector('a').get_attribute(\"href\")\n",
    "        driver2.get(link)\n",
    "        \n",
    "        try:\n",
    "            image_list = driver2.find_element_by_xpath(\"/html/body/article/div/div[1]/div[1]/div[2]/div/div[3]/div[2]/div[1]/div/ul\")\n",
    "        except NoSuchElementException:\n",
    "            continue\n",
    "            \n",
    "\n",
    "        try:\n",
    "            for image in image_list.find_elements_by_css_selector('img'):\n",
    "                images.append(image.get_attribute('data-src').replace(\"x80\", \"990x540xC\"))\n",
    "        except:\n",
    "            print(link)\n",
    "            continue\n",
    "\n",
    "        try:\n",
    "            year = (driver2.find_element_by_xpath(\"/html/body/article/div/div[1]/div[2]/div/div/div[3]/section[1]/div[2]/div[1]\").text).replace(\"Año\\n\", \"\")\n",
    "        except:\n",
    "            pass\n",
    "        try:\n",
    "            city = driver2.find_element_by_xpath(\"/html/body/article/div/div[1]/div[2]/div/div/div[3]/section[1]/div[2]/div[2]\").text.replace(\"Ciudad\\n\", \"\")\n",
    "        except:\n",
    "            pass\n",
    "        try:\n",
    "            distance = driver2.find_element_by_xpath(\"/html/body/article/div/div[1]/div[2]/div/div/div[3]/section[1]/div[2]/div[3]\").text.replace(\"Recorrido\\n\", \"\")\n",
    "        except:\n",
    "            pass\n",
    "        try:\n",
    "            negotiable = driver2.find_element_by_xpath(\"/html/body/article/div/div[1]/div[2]/div/div/div[3]/section[1]/div[2]/div[4]\").text.replace(\"Tipo de pago\\n\", \"\")\n",
    "        except:\n",
    "            pass\n",
    "        try:\n",
    "            price = driver2.find_element_by_xpath(\"/html/body/article/div/div[1]/div[2]/div/div/div[3]/section[1]/div[2]/div[5]\").text.replace(\"Precio Contado\\n\", \"\")\n",
    "        except:\n",
    "            pass\n",
    "\n",
    "        try:\n",
    "            technicalData = driver2.find_element_by_id(\"technicalData\")\n",
    "        except:\n",
    "            pass\n",
    "        try:\n",
    "            Marca = technicalData.find_element_by_xpath(\".//*[contains(text(), 'Marca')]/following-sibling::*\").text\n",
    "        except:\n",
    "            pass\n",
    "        try:\n",
    "            Modelo = technicalData.find_element_by_xpath(\".//*[contains(text(), 'Modelo')]/following-sibling::*\").text\n",
    "        except:\n",
    "            pass\n",
    "        try:\n",
    "            Subtipo = technicalData.find_element_by_xpath(\".//*[contains(text(), 'Subtipo')]/following-sibling::*\").text\n",
    "        except:\n",
    "            pass\n",
    "        try:\n",
    "            Vidrios = technicalData.find_element_by_xpath(\".//*[contains(text(), 'Vidrios')]/following-sibling::*\").text\n",
    "        except:\n",
    "            pass\n",
    "        try:\n",
    "            Tracción = technicalData.find_element_by_xpath(\".//*[contains(text(), 'Tracción')]/following-sibling::*\").text\n",
    "        except:\n",
    "            pass\n",
    "        try:\n",
    "            Transmisión = technicalData.find_element_by_xpath(\".//*[contains(text(), 'Transmisión')]/following-sibling::*\").text\n",
    "        except:\n",
    "            pass\n",
    "        try:\n",
    "            Dirección = technicalData.find_element_by_xpath(\".//*[contains(text(), 'Dirección')]/following-sibling::*\").text\n",
    "        except:\n",
    "            pass\n",
    "        try:\n",
    "            Sistema_de_climatización = technicalData.find_element_by_xpath(\".//*[contains(text(), 'Sistema de climatización')]/following-sibling::*\").text\n",
    "        except:\n",
    "            pass\n",
    "        try:\n",
    "            Placa = technicalData.find_element_by_xpath(\".//*[contains(text(), 'Placa')]/following-sibling::*\").text\n",
    "        except:\n",
    "            pass\n",
    "        try:\n",
    "            Tapizado = technicalData.find_element_by_xpath(\".//*[contains(text(), 'Tapizado')]/following-sibling::*\").text\n",
    "        except:\n",
    "            pass\n",
    "        try:\n",
    "            Combustible = technicalData.find_element_by_xpath(\".//*[contains(text(), 'Combustible')]/following-sibling::*\").text\n",
    "        except:\n",
    "            pass\n",
    "        try: \n",
    "            description = driver2.find_element_by_xpath(\".//*[contains(text(), 'Descripción')]/following-sibling::*/following-sibling::*\").text.replace(\"\\n\", \". \")\n",
    "        except:\n",
    "            pass\n",
    "        \n",
    "        row = {'Modelo': Modelo, 'Year': year, 'Images': images, 'City': city, 'Distance': distance, 'Negotiable': negotiable, 'Price': price, 'Marca': Marca, 'Subtipo': Subtipo, 'Vidrios': Vidrios, 'Tracción': Tracción, 'Transmisión': Transmisión, 'Dirección': Dirección, 'Sistema_de_climatización': Sistema_de_climatización, 'Placa': Placa, 'Tapizado': Tapizado, 'Combustible': Combustible, 'Description': description}\n",
    "        df = df.append(row, ignore_index=True)\n",
    "        \n",
    "    try:\n",
    "        next_len = len(driver.find_elements_by_xpath(\"//*[@class='waves-effect active']\"))\n",
    "        driver.find_elements_by_xpath(\"//*[@class='waves-effect active']\")[next_len-1].click()\n",
    "    except:\n",
    "        break"
   ]
  },
  {
   "cell_type": "code",
   "execution_count": 11,
   "metadata": {},
   "outputs": [],
   "source": [
    "df1 = df "
   ]
  },
  {
   "cell_type": "code",
   "execution_count": 13,
   "metadata": {},
   "outputs": [],
   "source": [
    "df1 = df1.drop_duplicates(subset=[\"Description\", \"Modelo\", \"Year\", \"City\", \"Distance\",\"Negotiable\",\"Price\",\"Marca\",\"Subtipo\",\"Vidrios\",\"Tracción\",\"Transmisión\",\"Dirección\",\"Sistema_de_climatización\", \"Placa\",\"Tapizado\",\"Combustible\",\"Description\"]).reset_index(drop=True)"
   ]
  },
  {
   "cell_type": "code",
   "execution_count": 21,
   "metadata": {},
   "outputs": [],
   "source": [
    "df1.to_excel(\"AutoData.xlsx\")"
   ]
  }
 ],
 "metadata": {
  "kernelspec": {
   "display_name": "Python 3",
   "language": "python",
   "name": "python3"
  },
  "language_info": {
   "codemirror_mode": {
    "name": "ipython",
    "version": 3
   },
   "file_extension": ".py",
   "mimetype": "text/x-python",
   "name": "python",
   "nbconvert_exporter": "python",
   "pygments_lexer": "ipython3",
   "version": "3.8.1"
  }
 },
 "nbformat": 4,
 "nbformat_minor": 4
}
